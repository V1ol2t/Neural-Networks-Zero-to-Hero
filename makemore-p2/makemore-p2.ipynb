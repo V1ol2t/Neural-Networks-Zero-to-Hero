{
 "cells": [
  {
   "cell_type": "code",
   "execution_count": 1,
   "id": "initial_id",
   "metadata": {
    "collapsed": true,
    "ExecuteTime": {
     "end_time": "2025-03-10T12:00:11.239012600Z",
     "start_time": "2025-03-10T11:59:55.176313600Z"
    }
   },
   "outputs": [],
   "source": [
    "import torch\n",
    "import torch.nn.functional as F\n",
    "import matplotlib.pyplot as plt\n",
    "%matplotlib inline"
   ]
  },
  {
   "cell_type": "code",
   "execution_count": 2,
   "outputs": [
    {
     "data": {
      "text/plain": "['emma', 'olivia', 'ava', 'isabella', 'sophia', 'charlotte', 'mia', 'amelia']"
     },
     "execution_count": 2,
     "metadata": {},
     "output_type": "execute_result"
    }
   ],
   "source": [
    "words = open('names.txt','r').read().splitlines()\n",
    "words[:8]"
   ],
   "metadata": {
    "collapsed": false,
    "ExecuteTime": {
     "end_time": "2025-03-10T12:00:11.251881300Z",
     "start_time": "2025-03-10T12:00:11.235012800Z"
    }
   },
   "id": "504fdeed2c40be58"
  },
  {
   "cell_type": "code",
   "execution_count": 3,
   "outputs": [
    {
     "name": "stdout",
     "output_type": "stream",
     "text": [
      "{1: 'a', 2: 'b', 3: 'c', 4: 'd', 5: 'e', 6: 'f', 7: 'g', 8: 'h', 9: 'i', 10: 'j', 11: 'k', 12: 'l', 13: 'm', 14: 'n', 15: 'o', 16: 'p', 17: 'q', 18: 'r', 19: 's', 20: 't', 21: 'u', 22: 'v', 23: 'w', 24: 'x', 25: 'y', 26: 'z', 0: '.'}\n"
     ]
    }
   ],
   "source": [
    "# build the vocabulary of characters and mapping to\\from integers\n",
    "chars = sorted(list(set(''.join(words))))\n",
    "stoi = {s:i+1 for i,s in enumerate(chars)}\n",
    "stoi['.'] = 0\n",
    "itos = {i:s for s,i in stoi.items()}\n",
    "print(itos)"
   ],
   "metadata": {
    "collapsed": false,
    "ExecuteTime": {
     "end_time": "2025-03-10T12:00:11.264345200Z",
     "start_time": "2025-03-10T12:00:11.254692200Z"
    }
   },
   "id": "222814b7761a191e"
  },
  {
   "cell_type": "code",
   "execution_count": 4,
   "outputs": [],
   "source": [
    "# build the dataset\n",
    "block_size = 3\n",
    "X, Y = [], []\n",
    "\n",
    "for w in words:\n",
    "    # print(w)\n",
    "    context = [0] * block_size\n",
    "    for ch in w + '.':\n",
    "        ix = stoi[ch]\n",
    "        X.append(context)\n",
    "        Y.append(ix)\n",
    "       # print(''.join(itos[i] for i in context),'---->', itos[ix])\n",
    "        context = context[1:] + [ix]\n",
    "        \n",
    "X = torch.tensor(X) # X是例子\n",
    "Y = torch.tensor(Y) # Y是标签 "
   ],
   "metadata": {
    "collapsed": false,
    "ExecuteTime": {
     "end_time": "2025-03-10T12:00:11.983237500Z",
     "start_time": "2025-03-10T12:00:11.268343700Z"
    }
   },
   "id": "a4768a246a607d39"
  },
  {
   "cell_type": "code",
   "execution_count": 23,
   "outputs": [
    {
     "name": "stdout",
     "output_type": "stream",
     "text": [
      "torch.Size([182625, 3]) torch.Size([182625])\n",
      "torch.Size([22655, 3]) torch.Size([22655])\n",
      "torch.Size([22866, 3]) torch.Size([22866])\n"
     ]
    }
   ],
   "source": [
    "# build the dataset\n",
    "\n",
    "def build_dataset(words):\n",
    "    block_size = 3\n",
    "    X, Y = [], []\n",
    "    for w in words:\n",
    "        context = [0] * block_size\n",
    "        for ch in w + '.':\n",
    "            ix = stoi[ch]\n",
    "            X.append(context)\n",
    "            Y.append(ix)\n",
    "            context = context[1:] + [ix]\n",
    "    \n",
    "    X = torch.tensor(X)\n",
    "    Y = torch.tensor(Y)\n",
    "    print(X.shape, Y.shape)\n",
    "    return X, Y\n",
    "\n",
    "import random\n",
    "random.seed(42)\n",
    "random.shuffle(words)\n",
    "n1 = int(0.8 * len(words))\n",
    "n2 = int(0.9 * len(words))\n",
    "\n",
    "Xtr, Ytr = build_dataset(words[:n1])\n",
    "Xdev, Ydev = build_dataset(words[n1:n2])\n",
    "Xte, Yte = build_dataset(words[n2:])"
   ],
   "metadata": {
    "collapsed": false,
    "ExecuteTime": {
     "end_time": "2025-03-10T12:25:19.360530900Z",
     "start_time": "2025-03-10T12:25:18.595704300Z"
    }
   },
   "id": "55fca4418d07e5f2"
  },
  {
   "cell_type": "code",
   "execution_count": 5,
   "outputs": [
    {
     "data": {
      "text/plain": "(torch.Size([228146, 3]), torch.int64, torch.Size([228146]), torch.int64)"
     },
     "execution_count": 5,
     "metadata": {},
     "output_type": "execute_result"
    }
   ],
   "source": [
    "X.shape, X.dtype, Y.shape, Y.dtype"
   ],
   "metadata": {
    "collapsed": false,
    "ExecuteTime": {
     "end_time": "2025-03-10T12:00:11.992975300Z",
     "start_time": "2025-03-10T12:00:11.985014400Z"
    }
   },
   "id": "e3521492a839d86e"
  },
  {
   "cell_type": "code",
   "execution_count": 6,
   "outputs": [],
   "source": [
    "C = torch.randn((27,2))"
   ],
   "metadata": {
    "collapsed": false,
    "ExecuteTime": {
     "end_time": "2025-03-10T12:00:12.005420700Z",
     "start_time": "2025-03-10T12:00:11.992975300Z"
    }
   },
   "id": "9bab67e667d4d762"
  },
  {
   "cell_type": "code",
   "execution_count": 7,
   "outputs": [
    {
     "data": {
      "text/plain": "torch.Size([228146, 3, 2])"
     },
     "execution_count": 7,
     "metadata": {},
     "output_type": "execute_result"
    }
   ],
   "source": [
    "emb = C[X]\n",
    "emb.shape # 32:有32个例子， 3：我们目前的神经网络有3个神经元， 2：每个神经元有两个权重"
   ],
   "metadata": {
    "collapsed": false,
    "ExecuteTime": {
     "end_time": "2025-03-10T12:00:12.076134200Z",
     "start_time": "2025-03-10T12:00:12.005420700Z"
    }
   },
   "id": "f0b0f5d6e6369dcc"
  },
  {
   "cell_type": "code",
   "execution_count": 8,
   "outputs": [],
   "source": [
    "W1 = torch.randn(6 ,100)\n",
    "b1 = torch.randn(100)"
   ],
   "metadata": {
    "collapsed": false,
    "ExecuteTime": {
     "end_time": "2025-03-10T12:00:12.076134200Z",
     "start_time": "2025-03-10T12:00:12.024173900Z"
    }
   },
   "id": "e7fad781c0afe202"
  },
  {
   "cell_type": "code",
   "execution_count": 9,
   "outputs": [],
   "source": [
    "h = torch.tanh(emb.view(-1, 6) @ W1 + b1)"
   ],
   "metadata": {
    "collapsed": false,
    "ExecuteTime": {
     "end_time": "2025-03-10T12:00:12.141107500Z",
     "start_time": "2025-03-10T12:00:12.032193100Z"
    }
   },
   "id": "6e9cb9e5338045cb"
  },
  {
   "cell_type": "code",
   "execution_count": 10,
   "outputs": [
    {
     "data": {
      "text/plain": "tensor([[ 0.9999,  0.9996,  0.9999,  ...,  0.0475,  0.9998,  0.8556],\n        [ 1.0000,  0.9965,  1.0000,  ...,  0.9259,  0.9594, -0.9604],\n        [ 1.0000,  0.9666,  0.9101,  ...,  0.9984, -0.7968, -1.0000],\n        ...,\n        [-1.0000, -0.9679, -0.9999,  ..., -0.3295, -0.9651,  0.9999],\n        [-1.0000, -0.9870,  0.8894,  ...,  0.2059, -0.9989,  0.4944],\n        [-0.9751, -0.3747, -0.9996,  ...,  0.9729, -0.9512,  0.9405]])"
     },
     "execution_count": 10,
     "metadata": {},
     "output_type": "execute_result"
    }
   ],
   "source": [
    "h"
   ],
   "metadata": {
    "collapsed": false,
    "ExecuteTime": {
     "end_time": "2025-03-10T12:00:12.161508600Z",
     "start_time": "2025-03-10T12:00:12.125076700Z"
    }
   },
   "id": "8e2f92570b51986c"
  },
  {
   "cell_type": "code",
   "execution_count": 11,
   "outputs": [],
   "source": [
    "W2 = torch.randn(100, 27)\n",
    "b2 = torch.randn(27)"
   ],
   "metadata": {
    "collapsed": false,
    "ExecuteTime": {
     "end_time": "2025-03-10T12:00:12.162545300Z",
     "start_time": "2025-03-10T12:00:12.145575Z"
    }
   },
   "id": "eb3bbba5fbee6263"
  },
  {
   "cell_type": "code",
   "execution_count": 12,
   "outputs": [],
   "source": [
    "logits = h @ W2 + b2"
   ],
   "metadata": {
    "collapsed": false,
    "ExecuteTime": {
     "end_time": "2025-03-10T12:00:12.217165700Z",
     "start_time": "2025-03-10T12:00:12.154347600Z"
    }
   },
   "id": "5168161ab63b46e8"
  },
  {
   "cell_type": "code",
   "execution_count": 13,
   "outputs": [],
   "source": [
    "count = logits.exp()"
   ],
   "metadata": {
    "collapsed": false,
    "ExecuteTime": {
     "end_time": "2025-03-10T12:00:12.217165700Z",
     "start_time": "2025-03-10T12:00:12.176054800Z"
    }
   },
   "id": "b6dd30e628173b46"
  },
  {
   "cell_type": "code",
   "execution_count": 14,
   "outputs": [
    {
     "data": {
      "text/plain": "tensor([[1.1092e-01, 2.5461e-08, 2.5470e-09,  ..., 1.7094e-07, 1.4805e-05,\n         2.8226e-14],\n        [9.8548e-01, 4.4738e-14, 1.1499e-11,  ..., 6.3180e-10, 4.4877e-07,\n         4.6163e-16],\n        [9.9953e-01, 2.3886e-09, 1.1469e-08,  ..., 1.1569e-06, 2.7749e-07,\n         6.3359e-12],\n        ...,\n        [2.2519e-17, 3.3265e-05, 6.5622e-01,  ..., 2.5613e-10, 2.1927e-08,\n         1.9075e-07],\n        [1.0990e-14, 1.3610e-07, 9.8463e-04,  ..., 8.7031e-08, 5.4050e-08,\n         3.0547e-10],\n        [7.8445e-16, 5.0351e-06, 2.2526e-05,  ..., 8.8031e-11, 2.2215e-09,\n         3.6878e-08]])"
     },
     "execution_count": 14,
     "metadata": {},
     "output_type": "execute_result"
    }
   ],
   "source": [
    "prob = count / count.sum(1, keepdim=True)\n",
    "prob"
   ],
   "metadata": {
    "collapsed": false,
    "ExecuteTime": {
     "end_time": "2025-03-10T12:00:12.228400Z",
     "start_time": "2025-03-10T12:00:12.191013300Z"
    }
   },
   "id": "b9211027eb24c9df"
  },
  {
   "cell_type": "code",
   "execution_count": 15,
   "outputs": [
    {
     "ename": "IndexError",
     "evalue": "shape mismatch: indexing tensors could not be broadcast together with shapes [32], [228146]",
     "output_type": "error",
     "traceback": [
      "\u001B[1;31m---------------------------------------------------------------------------\u001B[0m",
      "\u001B[1;31mIndexError\u001B[0m                                Traceback (most recent call last)",
      "Cell \u001B[1;32mIn[15], line 1\u001B[0m\n\u001B[1;32m----> 1\u001B[0m loss \u001B[38;5;241m=\u001B[39m \u001B[38;5;241m-\u001B[39m\u001B[43mprob\u001B[49m\u001B[43m[\u001B[49m\u001B[43mtorch\u001B[49m\u001B[38;5;241;43m.\u001B[39;49m\u001B[43marange\u001B[49m\u001B[43m(\u001B[49m\u001B[38;5;241;43m32\u001B[39;49m\u001B[43m)\u001B[49m\u001B[43m,\u001B[49m\u001B[43mY\u001B[49m\u001B[43m]\u001B[49m\u001B[38;5;241m.\u001B[39mlog()\u001B[38;5;241m.\u001B[39mmean() \u001B[38;5;66;03m# 将prob重新排列成32行，27列，然后取出每一行的Y对应的列，然后求平均值\u001B[39;00m\n",
      "\u001B[1;31mIndexError\u001B[0m: shape mismatch: indexing tensors could not be broadcast together with shapes [32], [228146]"
     ]
    }
   ],
   "source": [
    "loss = -prob[torch.arange(32),Y].log().mean() # 将prob重新排列成32行，27列，然后取出每一行的Y对应的列，然后求平均值"
   ],
   "metadata": {
    "collapsed": false,
    "ExecuteTime": {
     "end_time": "2025-03-10T12:00:12.468419Z",
     "start_time": "2025-03-10T12:00:12.213173300Z"
    }
   },
   "id": "2506866b5783585e"
  },
  {
   "cell_type": "code",
   "execution_count": null,
   "outputs": [],
   "source": [
    "loss"
   ],
   "metadata": {
    "collapsed": false,
    "ExecuteTime": {
     "end_time": "2025-03-10T12:00:12.474923700Z",
     "start_time": "2025-03-10T12:00:12.468419Z"
    }
   },
   "id": "cbfeabe112c0f2f1"
  },
  {
   "cell_type": "code",
   "execution_count": null,
   "outputs": [],
   "source": [
    "# ---------------------------------"
   ],
   "metadata": {
    "collapsed": false,
    "ExecuteTime": {
     "start_time": "2025-03-10T12:00:12.470935700Z"
    }
   },
   "id": "988444b3557589ff"
  },
  {
   "cell_type": "code",
   "execution_count": 16,
   "outputs": [
    {
     "data": {
      "text/plain": "(torch.Size([228146, 3]), torch.Size([228146]))"
     },
     "execution_count": 16,
     "metadata": {},
     "output_type": "execute_result"
    }
   ],
   "source": [
    "X.shape, Y.shape"
   ],
   "metadata": {
    "collapsed": false,
    "ExecuteTime": {
     "end_time": "2025-03-10T12:20:14.547181600Z",
     "start_time": "2025-03-10T12:20:14.507722800Z"
    }
   },
   "id": "98a23e51d72cbcdb"
  },
  {
   "cell_type": "code",
   "execution_count": 17,
   "outputs": [],
   "source": [
    "g = torch.Generator().manual_seed(2147483647)\n",
    "C = torch.randn((27, 2), generator=g)\n",
    "W1 = torch.randn((6, 100), generator=g)\n",
    "b1 = torch.randn(100, generator=g)\n",
    "W2 = torch.randn((100, 27), generator=g)\n",
    "b2 = torch.randn(27, generator=g)\n",
    "parameters = [C, W1, b1, W2, b2]"
   ],
   "metadata": {
    "collapsed": false,
    "ExecuteTime": {
     "end_time": "2025-03-10T12:20:15.749735400Z",
     "start_time": "2025-03-10T12:20:15.713783600Z"
    }
   },
   "id": "d9db3c7a4ab94267"
  },
  {
   "cell_type": "code",
   "execution_count": 18,
   "outputs": [
    {
     "data": {
      "text/plain": "3481"
     },
     "execution_count": 18,
     "metadata": {},
     "output_type": "execute_result"
    }
   ],
   "source": [
    "sum(p.nelement() for p in parameters) # 计算参数的数量"
   ],
   "metadata": {
    "collapsed": false,
    "ExecuteTime": {
     "end_time": "2025-03-10T12:20:16.799425800Z",
     "start_time": "2025-03-10T12:20:16.766895700Z"
    }
   },
   "id": "e755b9951fa5cf8f"
  },
  {
   "cell_type": "code",
   "execution_count": 19,
   "outputs": [],
   "source": [
    "for p in parameters:\n",
    "    p.requires_grad = True"
   ],
   "metadata": {
    "collapsed": false,
    "ExecuteTime": {
     "end_time": "2025-03-10T12:20:17.352909800Z",
     "start_time": "2025-03-10T12:20:17.334891700Z"
    }
   },
   "id": "8157d062b4f88c9a"
  },
  {
   "cell_type": "code",
   "execution_count": 20,
   "outputs": [],
   "source": [
    "lre = torch.linspace(-3, 0 ,1000)\n",
    "lrs = 10**lre"
   ],
   "metadata": {
    "collapsed": false,
    "ExecuteTime": {
     "end_time": "2025-03-10T12:20:18.416051Z",
     "start_time": "2025-03-10T12:20:18.398024100Z"
    }
   },
   "id": "dfcfc6f848de8f0e"
  },
  {
   "cell_type": "code",
   "execution_count": 28,
   "outputs": [
    {
     "name": "stdout",
     "output_type": "stream",
     "text": [
      "2.2661385536193848\n"
     ]
    }
   ],
   "source": [
    "lri = []\n",
    "lossi = []\n",
    "\n",
    "for i in range(3000):\n",
    "    \n",
    "    # minibatch construction\n",
    "    ix = torch.randint(0, Xtr.shape[0], (32,))\n",
    "    \n",
    "    # forward pass\n",
    "    emb = C[Xtr[ix]] # 32, 3, 2\n",
    "    h = torch.tanh(emb.view(-1, 6) @ W1 + b1) # 32, 100\n",
    "    logits = h @ W2 + b2 # 32, 27\n",
    "    # count = logits.exp()\n",
    "    # prob = count / count.sum(1, keepdim=True)\n",
    "    # loss = -prob[torch.arange(32), Y].log().mean()\n",
    "    loss = F.cross_entropy(logits, Ytr[ix])\n",
    "    # print(loss.item())\n",
    "    \n",
    "    # backward pass\n",
    "    for p in parameters:\n",
    "        p.grad = None # 清空梯度\n",
    "    loss.backward()\n",
    "    \n",
    "    # update weights\n",
    "    lr = 0.1\n",
    "    for p in parameters:\n",
    "        p.data += -lr * p.grad\n",
    "        \n",
    "    # track loss and lr\n",
    "    lri.append(lr)\n",
    "    lossi.append(loss.item())\n",
    "    \n",
    "print(loss.item())\n",
    "# 这里我们可以看到loss很小，说明我们的模型已经收敛了，但之所以很好是因为我们只训练了32个例子\n",
    "# 我们有3481个参数，而只有32个例子，所以我们的模型很容易过拟合\n",
    "# 而我们之所以达不到0，是因为我们前面的例子，例子中 ...的下一个既可以是e，也可以是h，也可以是其他，所以这里我们loss达不到0"
   ],
   "metadata": {
    "collapsed": false,
    "ExecuteTime": {
     "end_time": "2025-03-10T12:27:45.388958900Z",
     "start_time": "2025-03-10T12:27:42.468119900Z"
    }
   },
   "id": "cc50cf1f31c7015a"
  },
  {
   "cell_type": "code",
   "execution_count": 22,
   "outputs": [
    {
     "data": {
      "text/plain": "[<matplotlib.lines.Line2D at 0x22e52541ad0>]"
     },
     "execution_count": 22,
     "metadata": {},
     "output_type": "execute_result"
    },
    {
     "data": {
      "text/plain": "<Figure size 640x480 with 1 Axes>",
      "image/png": "[encoded data removed]"
     },
     "metadata": {},
     "output_type": "display_data"
    }
   ],
   "source": [
    "plt.plot(lri, lossi)"
   ],
   "metadata": {
    "collapsed": false,
    "ExecuteTime": {
     "end_time": "2025-03-10T12:20:21.451439900Z",
     "start_time": "2025-03-10T12:20:21.259779900Z"
    }
   },
   "id": "b9aed9df6dc6b0e8"
  },
  {
   "cell_type": "code",
   "execution_count": 29,
   "outputs": [
    {
     "data": {
      "text/plain": "2.452327251434326"
     },
     "execution_count": 29,
     "metadata": {},
     "output_type": "execute_result"
    }
   ],
   "source": [
    "emb = C[Xdev]\n",
    "h = torch.tanh(emb.view(-1, 6) @ W1 + b1)\n",
    "logits = h @ W2 + b2\n",
    "loss = F.cross_entropy(logits, Ydev)\n",
    "loss.item()"
   ],
   "metadata": {
    "collapsed": false,
    "ExecuteTime": {
     "end_time": "2025-03-10T12:27:53.307954100Z",
     "start_time": "2025-03-10T12:27:53.285700600Z"
    }
   },
   "id": "e062aa6b925c5b77"
  },
  {
   "cell_type": "code",
   "execution_count": null,
   "outputs": [],
   "source": [],
   "metadata": {
    "collapsed": false
   },
   "id": "d5542d140c0d046b"
  }
 ],
 "metadata": {
  "kernelspec": {
   "display_name": "Python 3",
   "language": "python",
   "name": "python3"
  },
  "language_info": {
   "codemirror_mode": {
    "name": "ipython",
    "version": 2
   },
   "file_extension": ".py",
   "mimetype": "text/x-python",
   "name": "python",
   "nbconvert_exporter": "python",
   "pygments_lexer": "ipython2",
   "version": "2.7.6"
  }
 },
 "nbformat": 4,
 "nbformat_minor": 5
}
