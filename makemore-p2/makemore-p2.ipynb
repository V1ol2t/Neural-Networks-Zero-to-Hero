{
 "cells": [
  {
   "cell_type": "code",
   "execution_count": 2,
   "id": "initial_id",
   "metadata": {
    "collapsed": true,
    "ExecuteTime": {
     "end_time": "2025-03-07T08:38:45.367715400Z",
     "start_time": "2025-03-07T08:38:41.003891800Z"
    }
   },
   "outputs": [],
   "source": [
    "import torch\n",
    "import torch.nn.functional as F\n",
    "import matplotlib.pyplot as plt\n",
    "%matplotlib inline"
   ]
  },
  {
   "cell_type": "code",
   "execution_count": 3,
   "outputs": [
    {
     "data": {
      "text/plain": "['emma', 'olivia', 'ava', 'isabella', 'sophia', 'charlotte', 'mia', 'amelia']"
     },
     "execution_count": 3,
     "metadata": {},
     "output_type": "execute_result"
    }
   ],
   "source": [
    "words = open('names.txt','r').read().splitlines()\n",
    "words[:8]"
   ],
   "metadata": {
    "collapsed": false,
    "ExecuteTime": {
     "end_time": "2025-03-07T08:38:45.387297700Z",
     "start_time": "2025-03-07T08:38:45.367715400Z"
    }
   },
   "id": "504fdeed2c40be58"
  },
  {
   "cell_type": "code",
   "execution_count": 4,
   "outputs": [
    {
     "name": "stdout",
     "output_type": "stream",
     "text": [
      "{1: 'a', 2: 'b', 3: 'c', 4: 'd', 5: 'e', 6: 'f', 7: 'g', 8: 'h', 9: 'i', 10: 'j', 11: 'k', 12: 'l', 13: 'm', 14: 'n', 15: 'o', 16: 'p', 17: 'q', 18: 'r', 19: 's', 20: 't', 21: 'u', 22: 'v', 23: 'w', 24: 'x', 25: 'y', 26: 'z', 0: '.'}\n"
     ]
    }
   ],
   "source": [
    "# build the vocabulary of characters and mapping to\\from integers\n",
    "chars = sorted(list(set(''.join(words))))\n",
    "stoi = {s:i+1 for i,s in enumerate(chars)}\n",
    "stoi['.'] = 0\n",
    "itos = {i:s for s,i in stoi.items()}\n",
    "print(itos)"
   ],
   "metadata": {
    "collapsed": false,
    "ExecuteTime": {
     "end_time": "2025-03-07T08:38:45.437089500Z",
     "start_time": "2025-03-07T08:38:45.382311100Z"
    }
   },
   "id": "222814b7761a191e"
  },
  {
   "cell_type": "code",
   "execution_count": 36,
   "outputs": [],
   "source": [
    "# build the dataset\n",
    "block_size = 3\n",
    "X, Y = [], []\n",
    "\n",
    "for w in words:\n",
    "    # print(w)\n",
    "    context = [0] * block_size\n",
    "    for ch in w + '.':\n",
    "        ix = stoi[ch]\n",
    "        X.append(context)\n",
    "        Y.append(ix)\n",
    "       # print(''.join(itos[i] for i in context),'---->', itos[ix])\n",
    "        context = context[1:] + [ix]\n",
    "        \n",
    "X = torch.tensor(X) # X是例子\n",
    "Y = torch.tensor(Y) # Y是标签 "
   ],
   "metadata": {
    "collapsed": false,
    "ExecuteTime": {
     "end_time": "2025-03-07T13:59:59.832798900Z",
     "start_time": "2025-03-07T13:59:59.126359400Z"
    }
   },
   "id": "a4768a246a607d39"
  },
  {
   "cell_type": "code",
   "execution_count": 6,
   "outputs": [
    {
     "data": {
      "text/plain": "(torch.Size([32, 3]), torch.int64, torch.Size([32]), torch.int64)"
     },
     "execution_count": 6,
     "metadata": {},
     "output_type": "execute_result"
    }
   ],
   "source": [
    "X.shape, X.dtype, Y.shape, Y.dtype"
   ],
   "metadata": {
    "collapsed": false,
    "ExecuteTime": {
     "end_time": "2025-03-07T08:38:45.455562900Z",
     "start_time": "2025-03-07T08:38:45.407870200Z"
    }
   },
   "id": "e3521492a839d86e"
  },
  {
   "cell_type": "code",
   "execution_count": 7,
   "outputs": [],
   "source": [
    "C = torch.randn((27,2))"
   ],
   "metadata": {
    "collapsed": false,
    "ExecuteTime": {
     "end_time": "2025-03-07T08:38:45.456560100Z",
     "start_time": "2025-03-07T08:38:45.414892700Z"
    }
   },
   "id": "9bab67e667d4d762"
  },
  {
   "cell_type": "code",
   "execution_count": 12,
   "outputs": [
    {
     "data": {
      "text/plain": "torch.Size([32, 3, 2])"
     },
     "execution_count": 12,
     "metadata": {},
     "output_type": "execute_result"
    }
   ],
   "source": [
    "emb = C[X]\n",
    "emb.shape # 32:有32个例子， 3：我们目前的神经网络有3个神经元， 2：每个神经元有两个权重"
   ],
   "metadata": {
    "collapsed": false,
    "ExecuteTime": {
     "end_time": "2025-03-07T09:01:02.884885800Z",
     "start_time": "2025-03-07T09:01:02.873867500Z"
    }
   },
   "id": "f0b0f5d6e6369dcc"
  },
  {
   "cell_type": "code",
   "execution_count": 13,
   "outputs": [],
   "source": [
    "W1 = torch.randn(6 ,100)\n",
    "b1 = torch.randn(100)"
   ],
   "metadata": {
    "collapsed": false,
    "ExecuteTime": {
     "end_time": "2025-03-07T09:01:03.337574300Z",
     "start_time": "2025-03-07T09:01:03.327598200Z"
    }
   },
   "id": "e7fad781c0afe202"
  },
  {
   "cell_type": "code",
   "execution_count": 15,
   "outputs": [],
   "source": [
    "h = torch.tanh(emb.view(-1, 6) @ W1 + b1)"
   ],
   "metadata": {
    "collapsed": false,
    "ExecuteTime": {
     "end_time": "2025-03-07T09:04:08.765081800Z",
     "start_time": "2025-03-07T09:04:08.751019800Z"
    }
   },
   "id": "6e9cb9e5338045cb"
  },
  {
   "cell_type": "code",
   "execution_count": 16,
   "outputs": [
    {
     "data": {
      "text/plain": "tensor([[-0.5162, -0.7824, -0.2465,  ..., -0.8398,  0.8837,  0.8785],\n        [-0.9911, -0.8967,  0.3335,  ..., -0.9968,  0.9665, -0.2902],\n        [-0.9683,  0.9690,  0.3493,  ..., -0.9786, -0.9553,  0.7325],\n        ...,\n        [ 0.6652, -0.7751,  0.8833,  ...,  0.9991, -0.9999,  0.9947],\n        [-1.0000,  0.4799,  0.9998,  ..., -1.0000,  0.9888,  0.9453],\n        [-0.5805, -0.9954,  0.3426,  ..., -0.9997,  1.0000,  0.8064]])"
     },
     "execution_count": 16,
     "metadata": {},
     "output_type": "execute_result"
    }
   ],
   "source": [
    "h"
   ],
   "metadata": {
    "collapsed": false,
    "ExecuteTime": {
     "end_time": "2025-03-07T09:04:10.975585500Z",
     "start_time": "2025-03-07T09:04:10.950761800Z"
    }
   },
   "id": "8e2f92570b51986c"
  },
  {
   "cell_type": "code",
   "execution_count": 17,
   "outputs": [],
   "source": [
    "W2 = torch.randn(100, 27)\n",
    "b2 = torch.randn(27)"
   ],
   "metadata": {
    "collapsed": false,
    "ExecuteTime": {
     "end_time": "2025-03-07T09:18:35.068189200Z",
     "start_time": "2025-03-07T09:18:35.049137800Z"
    }
   },
   "id": "eb3bbba5fbee6263"
  },
  {
   "cell_type": "code",
   "execution_count": 18,
   "outputs": [],
   "source": [
    "logits = h @ W2 + b2"
   ],
   "metadata": {
    "collapsed": false,
    "ExecuteTime": {
     "end_time": "2025-03-07T09:18:42.150838700Z",
     "start_time": "2025-03-07T09:18:42.136779800Z"
    }
   },
   "id": "5168161ab63b46e8"
  },
  {
   "cell_type": "code",
   "execution_count": 19,
   "outputs": [],
   "source": [
    "count = logits.exp()"
   ],
   "metadata": {
    "collapsed": false,
    "ExecuteTime": {
     "end_time": "2025-03-07T09:18:56.185928100Z",
     "start_time": "2025-03-07T09:18:56.165348900Z"
    }
   },
   "id": "b6dd30e628173b46"
  },
  {
   "cell_type": "code",
   "execution_count": 20,
   "outputs": [
    {
     "data": {
      "text/plain": "tensor([[3.8225e-06, 2.8055e-07, 4.6961e-08, 3.3364e-06, 1.1678e-07, 1.0027e-09,\n         4.4767e-11, 7.3696e-13, 1.0707e-07, 7.6969e-06, 2.5573e-07, 9.0390e-09,\n         1.5201e-13, 8.9277e-12, 8.8186e-01, 2.7598e-11, 8.5072e-07, 6.9656e-09,\n         6.3237e-11, 2.4946e-04, 8.5720e-06, 1.1786e-01, 4.1533e-09, 9.2414e-10,\n         4.1034e-10, 2.8059e-11, 9.5475e-06],\n        [1.8934e-05, 4.4640e-06, 2.4128e-09, 1.8194e-06, 4.7250e-07, 4.5110e-08,\n         1.6974e-15, 2.2088e-13, 7.1328e-10, 8.6773e-10, 3.7077e-07, 4.8438e-08,\n         2.0957e-09, 1.1161e-14, 3.8001e-08, 3.8573e-09, 2.2798e-09, 1.3525e-10,\n         4.2261e-10, 3.2657e-07, 6.1886e-01, 3.8111e-01, 1.8883e-08, 4.9985e-09,\n         4.0059e-09, 2.2928e-12, 3.3903e-06],\n        [8.0944e-10, 6.1246e-10, 1.4350e-11, 5.6950e-12, 1.3854e-10, 1.4461e-06,\n         7.3729e-01, 5.1683e-08, 7.5516e-04, 8.7845e-12, 8.4163e-08, 9.1363e-06,\n         1.0130e-09, 3.7485e-11, 2.4715e-11, 1.6725e-10, 7.7158e-05, 6.0012e-09,\n         1.3099e-10, 2.6518e-05, 1.6282e-08, 1.2843e-06, 8.4248e-09, 5.0568e-11,\n         8.0189e-08, 1.0311e-06, 2.6184e-01],\n        [2.6525e-03, 5.0936e-06, 1.1320e-07, 3.4229e-06, 2.2707e-11, 7.0679e-08,\n         8.2775e-02, 2.3094e-07, 7.2824e-05, 1.0890e-08, 7.1146e-07, 9.9515e-09,\n         1.3197e-08, 2.1223e-07, 2.1604e-18, 9.0354e-09, 1.3879e-08, 3.6172e-05,\n         3.8314e-08, 4.7070e-04, 2.2277e-09, 1.2798e-10, 1.7048e-04, 4.7902e-09,\n         9.6339e-06, 9.1379e-01, 9.2676e-06],\n        [3.5856e-10, 9.6291e-02, 6.2474e-04, 1.2393e-05, 1.7016e-03, 1.5620e-04,\n         4.9325e-09, 1.7447e-07, 3.5914e-07, 4.0477e-08, 3.3604e-07, 2.2908e-09,\n         2.3251e-06, 5.0642e-03, 2.9078e-09, 1.6750e-03, 1.4292e-11, 2.3967e-04,\n         1.3081e-04, 3.8752e-08, 4.8807e-07, 1.0033e-12, 5.0108e-01, 5.1611e-09,\n         3.9302e-01, 9.5568e-07, 2.1407e-10],\n        [3.8225e-06, 2.8055e-07, 4.6961e-08, 3.3364e-06, 1.1678e-07, 1.0027e-09,\n         4.4767e-11, 7.3696e-13, 1.0707e-07, 7.6969e-06, 2.5573e-07, 9.0390e-09,\n         1.5201e-13, 8.9277e-12, 8.8186e-01, 2.7598e-11, 8.5072e-07, 6.9656e-09,\n         6.3237e-11, 2.4946e-04, 8.5720e-06, 1.1786e-01, 4.1533e-09, 9.2414e-10,\n         4.1034e-10, 2.8059e-11, 9.5475e-06],\n        [7.1284e-07, 1.8369e-07, 3.1107e-08, 3.0123e-07, 3.9228e-08, 9.3680e-06,\n         6.5577e-11, 3.0799e-09, 1.7559e-07, 4.1591e-13, 2.9583e-07, 3.3775e-02,\n         1.0706e-07, 4.5212e-12, 1.2222e-13, 4.5745e-08, 2.6343e-09, 1.3695e-11,\n         5.7378e-10, 1.1429e-07, 1.3713e-04, 3.1128e-03, 3.4066e-08, 8.5243e-12,\n         4.8507e-06, 2.7872e-07, 9.6296e-01],\n        [1.6881e-07, 1.6909e-06, 2.0704e-05, 1.0998e-07, 6.3564e-07, 1.0695e-08,\n         6.6176e-01, 8.7373e-03, 7.3896e-03, 5.7150e-11, 1.4343e-06, 5.7030e-10,\n         1.4622e-08, 1.5349e-09, 4.8454e-13, 1.3840e-08, 3.2164e-01, 1.2101e-05,\n         5.4196e-07, 1.5699e-06, 1.4064e-05, 4.8185e-07, 3.8134e-04, 1.3957e-05,\n         3.2207e-05, 9.2692e-07, 5.1622e-09],\n        [7.2071e-03, 1.1033e-06, 4.4121e-08, 5.8766e-03, 6.1835e-05, 5.9727e-02,\n         4.4824e-04, 2.4103e-01, 9.1311e-08, 1.2377e-03, 1.7089e-04, 8.8600e-07,\n         2.8192e-05, 7.0203e-02, 1.2980e-12, 3.8749e-09, 1.0459e-11, 1.2970e-02,\n         4.9762e-04, 1.0857e-08, 5.8961e-01, 1.1556e-07, 3.5626e-06, 4.1982e-04,\n         1.0502e-02, 1.1610e-05, 1.3198e-10],\n        [9.9376e-06, 6.7975e-08, 6.7962e-08, 8.6050e-02, 1.1661e-06, 2.1097e-04,\n         8.8115e-10, 3.3789e-05, 4.3414e-08, 8.9767e-05, 9.3164e-06, 4.9873e-07,\n         3.9411e-07, 1.6704e-08, 8.5461e-09, 4.2990e-10, 8.2713e-11, 1.1390e-10,\n         6.5524e-10, 6.7105e-07, 9.0005e-01, 1.3507e-02, 4.2913e-08, 3.3731e-08,\n         3.5345e-05, 2.7759e-09, 1.1272e-06],\n        [3.7485e-03, 1.6355e-04, 4.1573e-03, 8.7950e-04, 2.5002e-03, 9.2539e-08,\n         2.2763e-07, 1.8440e-06, 9.6666e-07, 1.9410e-03, 1.0164e-04, 3.2504e-09,\n         1.4530e-09, 8.0508e-09, 4.1567e-06, 1.9559e-09, 9.8940e-10, 1.6075e-05,\n         1.5293e-08, 1.3751e-01, 8.0821e-01, 4.0582e-02, 1.7273e-04, 4.1649e-06,\n         1.4594e-06, 1.4546e-07, 6.3996e-10],\n        [5.0835e-05, 7.2581e-06, 8.5413e-07, 1.1270e-03, 1.1070e-05, 6.2495e-07,\n         3.8986e-13, 3.5861e-09, 1.5452e-07, 7.7387e-06, 3.4059e-07, 1.2542e-07,\n         2.6429e-06, 3.5456e-12, 2.1284e-07, 2.3488e-06, 2.1373e-13, 2.0388e-08,\n         1.8883e-08, 3.4093e-10, 9.9824e-01, 5.4415e-04, 1.0176e-10, 3.2711e-09,\n         9.5351e-06, 1.0019e-13, 4.9225e-13],\n        [3.8225e-06, 2.8055e-07, 4.6961e-08, 3.3364e-06, 1.1678e-07, 1.0027e-09,\n         4.4767e-11, 7.3696e-13, 1.0707e-07, 7.6969e-06, 2.5573e-07, 9.0390e-09,\n         1.5201e-13, 8.9277e-12, 8.8186e-01, 2.7598e-11, 8.5072e-07, 6.9656e-09,\n         6.3237e-11, 2.4946e-04, 8.5720e-06, 1.1786e-01, 4.1533e-09, 9.2414e-10,\n         4.1034e-10, 2.8059e-11, 9.5475e-06],\n        [4.7610e-04, 1.6509e-04, 3.7291e-07, 1.8422e-05, 7.3271e-04, 1.6874e-08,\n         4.2458e-16, 2.1489e-12, 3.0959e-09, 8.2591e-08, 3.1148e-08, 5.0266e-08,\n         3.6050e-09, 8.4418e-15, 2.3150e-03, 1.5450e-06, 4.6175e-09, 3.8728e-08,\n         3.4171e-08, 5.2812e-10, 9.5594e-01, 4.0348e-02, 1.7754e-09, 1.4245e-09,\n         1.5719e-07, 3.2488e-13, 3.9708e-10],\n        [2.8207e-09, 8.5565e-06, 4.6745e-09, 9.7644e-05, 3.2865e-05, 4.1133e-05,\n         1.6499e-08, 2.0062e-07, 2.6138e-06, 3.9318e-09, 1.3526e-05, 8.4511e-05,\n         1.4474e-08, 1.8290e-10, 7.6845e-06, 1.3331e-07, 1.7859e-05, 3.7727e-09,\n         4.4943e-08, 8.9489e-03, 9.0902e-01, 8.1108e-02, 1.4194e-09, 1.6088e-07,\n         8.2727e-06, 1.0301e-07, 6.0585e-04],\n        [5.1583e-04, 3.7221e-09, 4.0649e-04, 5.3837e-02, 6.2495e-04, 1.6528e-07,\n         2.5041e-11, 5.1202e-07, 6.1392e-09, 9.3862e-01, 2.5453e-05, 3.7521e-09,\n         8.4936e-09, 2.4425e-08, 4.8324e-09, 4.5129e-09, 9.6904e-13, 3.7305e-10,\n         1.9142e-09, 2.0906e-04, 4.6621e-03, 7.0643e-04, 2.3932e-04, 2.0817e-07,\n         1.5620e-04, 3.4189e-10, 1.5543e-12],\n        [3.8225e-06, 2.8055e-07, 4.6961e-08, 3.3364e-06, 1.1678e-07, 1.0027e-09,\n         4.4767e-11, 7.3696e-13, 1.0707e-07, 7.6969e-06, 2.5573e-07, 9.0390e-09,\n         1.5201e-13, 8.9277e-12, 8.8186e-01, 2.7598e-11, 8.5072e-07, 6.9656e-09,\n         6.3237e-11, 2.4946e-04, 8.5720e-06, 1.1786e-01, 4.1533e-09, 9.2414e-10,\n         4.1034e-10, 2.8059e-11, 9.5475e-06],\n        [9.5040e-05, 3.0691e-06, 1.6614e-07, 7.1193e-06, 1.1875e-05, 1.6819e-09,\n         2.9933e-13, 4.8694e-13, 5.3359e-09, 3.3133e-06, 1.2181e-07, 1.4041e-08,\n         2.7953e-11, 1.1416e-13, 5.0644e-02, 5.0403e-10, 2.0403e-07, 6.5295e-08,\n         1.9264e-10, 2.4463e-05, 2.2603e-02, 9.2661e-01, 6.6300e-08, 3.2844e-08,\n         9.5640e-10, 3.3661e-12, 1.2075e-06],\n        [3.9056e-06, 1.1793e-04, 2.2471e-06, 8.8899e-01, 9.8769e-04, 8.3484e-08,\n         1.1036e-12, 4.3015e-09, 1.9811e-05, 3.1576e-08, 2.4516e-10, 1.6876e-06,\n         3.0897e-05, 4.6320e-09, 4.3597e-11, 1.4967e-04, 1.0790e-09, 6.8871e-06,\n         7.1023e-12, 2.4509e-12, 5.7268e-03, 8.6484e-02, 6.6624e-04, 7.7533e-06,\n         1.6804e-02, 1.0805e-10, 1.0139e-07],\n        [5.0095e-07, 1.5693e-07, 8.4870e-06, 5.9627e-04, 4.0738e-06, 3.6710e-06,\n         7.3268e-10, 1.2470e-04, 9.8390e-01, 6.6238e-10, 3.7019e-09, 1.7137e-10,\n         8.3433e-07, 9.0163e-08, 7.3305e-11, 1.7736e-07, 1.4686e-08, 6.7881e-07,\n         4.4232e-06, 5.2931e-04, 1.1971e-02, 4.5387e-08, 1.9676e-06, 1.0512e-07,\n         2.8556e-03, 4.2710e-09, 1.7273e-15],\n        [1.1311e-01, 1.6971e-09, 8.1037e-09, 2.3523e-02, 1.5212e-06, 3.0566e-04,\n         7.7174e-07, 2.7049e-02, 2.4488e-07, 7.9277e-03, 5.4929e-06, 1.7047e-05,\n         1.2671e-05, 8.1493e-01, 1.7322e-12, 5.4093e-09, 8.5281e-15, 2.8840e-08,\n         6.2942e-07, 9.6361e-07, 2.4825e-05, 6.6916e-07, 1.9154e-08, 2.8921e-04,\n         1.2757e-02, 5.0250e-05, 2.9621e-07],\n        [1.0124e-01, 2.4346e-07, 7.1415e-03, 7.8802e-01, 2.8128e-05, 2.1829e-07,\n         8.1573e-06, 5.6960e-08, 2.3145e-07, 5.1789e-02, 1.4273e-06, 9.0635e-09,\n         2.3156e-09, 1.2414e-07, 1.5952e-12, 2.0281e-07, 7.6480e-12, 1.2819e-06,\n         2.6406e-09, 2.8673e-02, 6.4901e-05, 8.1173e-03, 1.1593e-02, 6.0184e-08,\n         3.2852e-03, 5.4513e-06, 2.7996e-05],\n        [1.4283e-08, 3.7725e-04, 8.9271e-06, 7.8233e-02, 5.3223e-04, 6.0567e-05,\n         4.2532e-06, 1.2905e-01, 2.1162e-02, 1.1589e-10, 6.9580e-05, 8.3374e-05,\n         4.7968e-05, 2.0733e-07, 2.3679e-13, 7.9508e-07, 1.8020e-06, 3.8487e-04,\n         2.8067e-05, 2.6226e-05, 7.4915e-01, 4.0188e-08, 2.2622e-05, 1.8141e-06,\n         2.0753e-02, 1.0265e-06, 2.8010e-06],\n        [4.6810e-05, 5.1330e-08, 1.0815e-06, 1.4600e-02, 1.3487e-05, 1.8998e-06,\n         8.0868e-07, 9.4886e-03, 9.5203e-08, 5.2133e-06, 1.3412e-05, 2.4568e-07,\n         5.2359e-07, 2.1404e-06, 2.1509e-15, 4.2489e-09, 4.6919e-13, 4.0897e-08,\n         1.8302e-09, 3.0279e-07, 9.3804e-01, 3.4861e-06, 8.5103e-07, 4.5310e-07,\n         3.7778e-02, 5.7555e-08, 4.2236e-09],\n        [8.7783e-06, 2.2063e-05, 5.8452e-05, 3.9006e-03, 1.9485e-04, 5.7409e-07,\n         1.3669e-13, 6.7905e-08, 2.9308e-06, 1.4500e-05, 9.0571e-08, 3.6349e-10,\n         1.0402e-06, 2.7185e-09, 1.0037e-11, 1.8325e-06, 5.9243e-14, 1.7350e-05,\n         1.1443e-07, 1.8550e-08, 9.7387e-01, 4.8280e-08, 2.4181e-07, 3.9326e-09,\n         2.1902e-02, 3.5325e-11, 1.7971e-14],\n        [3.8225e-06, 2.8055e-07, 4.6961e-08, 3.3364e-06, 1.1678e-07, 1.0027e-09,\n         4.4767e-11, 7.3696e-13, 1.0707e-07, 7.6969e-06, 2.5573e-07, 9.0390e-09,\n         1.5201e-13, 8.9277e-12, 8.8186e-01, 2.7598e-11, 8.5072e-07, 6.9656e-09,\n         6.3237e-11, 2.4946e-04, 8.5720e-06, 1.1786e-01, 4.1533e-09, 9.2414e-10,\n         4.1034e-10, 2.8059e-11, 9.5475e-06],\n        [1.8435e-05, 1.2758e-04, 1.5221e-06, 9.1363e-01, 1.8632e-04, 1.3184e-07,\n         3.2176e-13, 1.1423e-09, 5.5235e-06, 1.1028e-07, 1.0802e-09, 1.8929e-07,\n         3.1454e-06, 8.0282e-10, 4.9403e-10, 4.6470e-04, 1.6170e-09, 1.3139e-06,\n         2.8541e-12, 5.6023e-13, 1.7938e-03, 8.1217e-02, 7.1595e-05, 7.8725e-05,\n         2.3989e-03, 1.7811e-10, 4.6144e-08],\n        [1.1544e-09, 8.6405e-05, 1.7036e-06, 8.6103e-05, 1.1725e-04, 2.4171e-03,\n         5.9777e-03, 4.1896e-03, 8.0779e-01, 5.5605e-14, 2.0159e-08, 1.0536e-03,\n         1.0545e-04, 4.2892e-11, 1.0299e-14, 5.3780e-07, 3.5088e-03, 6.2177e-06,\n         3.1533e-05, 2.3104e-04, 1.6879e-01, 9.5935e-05, 5.5335e-06, 1.0389e-07,\n         5.2806e-03, 2.1840e-04, 2.7061e-06],\n        [1.2578e-01, 3.9817e-06, 6.7287e-05, 8.4369e-07, 1.3528e-06, 4.4785e-04,\n         9.0297e-04, 2.5994e-06, 3.8674e-06, 8.4946e-01, 8.8571e-05, 2.5563e-15,\n         4.9375e-14, 3.7673e-05, 9.4061e-03, 8.3682e-09, 1.4117e-12, 1.0713e-05,\n         2.0314e-05, 1.3411e-02, 9.9144e-08, 1.9622e-07, 1.5283e-05, 2.3524e-05,\n         1.0723e-09, 3.1812e-04, 5.2926e-12],\n        [3.5698e-03, 4.7270e-07, 1.4145e-07, 3.1893e-05, 1.3511e-07, 7.0678e-03,\n         2.2146e-09, 1.1536e-10, 6.8810e-08, 9.8774e-01, 1.2121e-06, 9.6179e-08,\n         5.5591e-14, 4.0805e-05, 6.3634e-07, 5.5506e-06, 1.5824e-10, 6.5514e-07,\n         1.2923e-08, 3.8470e-05, 8.1436e-08, 5.1095e-05, 6.8635e-10, 9.3733e-11,\n         5.8556e-09, 6.3239e-05, 1.3908e-03],\n        [9.4975e-10, 2.0844e-06, 3.2312e-08, 2.5343e-13, 8.5168e-10, 1.2696e-11,\n         2.1020e-14, 1.9220e-17, 9.5077e-11, 1.3640e-13, 3.6593e-09, 3.6996e-10,\n         1.7726e-17, 2.5377e-11, 9.9997e-01, 1.0986e-10, 6.9253e-09, 2.0183e-08,\n         1.7517e-08, 3.0682e-05, 4.4351e-08, 7.0554e-07, 5.7731e-08, 1.8221e-11,\n         3.0748e-11, 1.8506e-09, 1.1571e-06],\n        [3.8629e-08, 9.8040e-01, 2.3201e-05, 1.1159e-09, 1.2969e-05, 3.6631e-08,\n         3.5714e-16, 2.3876e-12, 6.8789e-06, 2.7550e-12, 6.8579e-06, 1.2749e-05,\n         9.6188e-07, 9.7575e-09, 1.8806e-02, 8.6906e-06, 6.4956e-06, 4.5452e-06,\n         1.8865e-05, 1.5846e-09, 6.8407e-04, 5.3681e-07, 1.9949e-06, 1.0345e-07,\n         1.5171e-06, 1.0663e-10, 1.3758e-09]])"
     },
     "execution_count": 20,
     "metadata": {},
     "output_type": "execute_result"
    }
   ],
   "source": [
    "prob = count / count.sum(1, keepdim=True)\n",
    "prob"
   ],
   "metadata": {
    "collapsed": false,
    "ExecuteTime": {
     "end_time": "2025-03-07T09:19:15.474311500Z",
     "start_time": "2025-03-07T09:19:15.448042900Z"
    }
   },
   "id": "b9211027eb24c9df"
  },
  {
   "cell_type": "code",
   "execution_count": 21,
   "outputs": [],
   "source": [
    "loss = -prob[torch.arange(32),Y].log().mean() # 将prob重新排列成32行，27列，然后取出每一行的Y对应的列，然后求平均值"
   ],
   "metadata": {
    "collapsed": false,
    "ExecuteTime": {
     "end_time": "2025-03-07T10:47:57.761622600Z",
     "start_time": "2025-03-07T10:47:57.736290800Z"
    }
   },
   "id": "2506866b5783585e"
  },
  {
   "cell_type": "code",
   "execution_count": 22,
   "outputs": [
    {
     "data": {
      "text/plain": "tensor(13.8561)"
     },
     "execution_count": 22,
     "metadata": {},
     "output_type": "execute_result"
    }
   ],
   "source": [
    "loss"
   ],
   "metadata": {
    "collapsed": false,
    "ExecuteTime": {
     "end_time": "2025-03-07T10:48:03.740019200Z",
     "start_time": "2025-03-07T10:48:03.719259500Z"
    }
   },
   "id": "cbfeabe112c0f2f1"
  },
  {
   "cell_type": "code",
   "execution_count": 23,
   "outputs": [],
   "source": [
    "# ---------------------------------"
   ],
   "metadata": {
    "collapsed": false,
    "ExecuteTime": {
     "end_time": "2025-03-07T13:43:27.543951400Z",
     "start_time": "2025-03-07T13:43:27.536635900Z"
    }
   },
   "id": "988444b3557589ff"
  },
  {
   "cell_type": "code",
   "execution_count": 37,
   "outputs": [
    {
     "data": {
      "text/plain": "(torch.Size([228146, 3]), torch.Size([228146]))"
     },
     "execution_count": 37,
     "metadata": {},
     "output_type": "execute_result"
    }
   ],
   "source": [
    "X.shape, Y.shape"
   ],
   "metadata": {
    "collapsed": false,
    "ExecuteTime": {
     "end_time": "2025-03-07T14:00:04.603219900Z",
     "start_time": "2025-03-07T14:00:04.593140700Z"
    }
   },
   "id": "98a23e51d72cbcdb"
  },
  {
   "cell_type": "code",
   "execution_count": 45,
   "outputs": [],
   "source": [
    "g = torch.Generator().manual_seed(2147483647)\n",
    "C = torch.randn((27, 2), generator=g)\n",
    "W1 = torch.randn((6, 100), generator=g)\n",
    "b1 = torch.randn(100, generator=g)\n",
    "W2 = torch.randn((100, 27), generator=g)\n",
    "b2 = torch.randn(27, generator=g)\n",
    "parameters = [C, W1, b1, W2, b2]"
   ],
   "metadata": {
    "collapsed": false,
    "ExecuteTime": {
     "end_time": "2025-03-07T14:23:51.184932900Z",
     "start_time": "2025-03-07T14:23:51.171096500Z"
    }
   },
   "id": "d9db3c7a4ab94267"
  },
  {
   "cell_type": "code",
   "execution_count": 46,
   "outputs": [
    {
     "data": {
      "text/plain": "3481"
     },
     "execution_count": 46,
     "metadata": {},
     "output_type": "execute_result"
    }
   ],
   "source": [
    "sum(p.nelement() for p in parameters) # 计算参数的数量"
   ],
   "metadata": {
    "collapsed": false,
    "ExecuteTime": {
     "end_time": "2025-03-07T14:23:51.776079700Z",
     "start_time": "2025-03-07T14:23:51.745162900Z"
    }
   },
   "id": "e755b9951fa5cf8f"
  },
  {
   "cell_type": "code",
   "execution_count": 47,
   "outputs": [],
   "source": [
    "for p in parameters:\n",
    "    p.requires_grad = True"
   ],
   "metadata": {
    "collapsed": false,
    "ExecuteTime": {
     "end_time": "2025-03-07T14:23:52.278894200Z",
     "start_time": "2025-03-07T14:23:52.274307300Z"
    }
   },
   "id": "8157d062b4f88c9a"
  },
  {
   "cell_type": "code",
   "execution_count": 48,
   "outputs": [],
   "source": [
    "lre = torch.linspace(-3, 0 ,1000)\n",
    "lrs = 10**lre"
   ],
   "metadata": {
    "collapsed": false,
    "ExecuteTime": {
     "end_time": "2025-03-07T14:23:53.124041900Z",
     "start_time": "2025-03-07T14:23:53.109224300Z"
    }
   },
   "id": "dfcfc6f848de8f0e"
  },
  {
   "cell_type": "code",
   "execution_count": 49,
   "outputs": [],
   "source": [
    "lri = []\n",
    "lossi = []\n",
    "\n",
    "for i in range(1000):\n",
    "    \n",
    "    # minibatch construction\n",
    "    ix = torch.randint(0, X.shape[0], (32,))\n",
    "    \n",
    "    # forward pass\n",
    "    emb = C[X[ix]] # 32, 3, 2\n",
    "    h = torch.tanh(emb.view(-1, 6) @ W1 + b1) # 32, 100\n",
    "    logits = h @ W2 + b2 # 32, 27\n",
    "    # count = logits.exp()\n",
    "    # prob = count / count.sum(1, keepdim=True)\n",
    "    # loss = -prob[torch.arange(32), Y].log().mean()\n",
    "    loss = F.cross_entropy(logits, Y[ix])\n",
    "    # print(loss.item())\n",
    "    \n",
    "    # backward pass\n",
    "    for p in parameters:\n",
    "        p.grad = None # 清空梯度\n",
    "    loss.backward()\n",
    "    \n",
    "    # update weights\n",
    "    lr = lrs[i]\n",
    "    for p in parameters:\n",
    "        p.data += -lr * p.grad\n",
    "        \n",
    "    # track loss and lr\n",
    "    lri.append(lr)\n",
    "    lossi.append(loss.item())\n",
    "    \n",
    "# print(loss.item())\n",
    "# 这里我们可以看到loss很小，说明我们的模型已经收敛了，但之所以很好是因为我们只训练了32个例子\n",
    "# 我们有3481个参数，而只有32个例子，所以我们的模型很容易过拟合\n",
    "# 而我们之所以达不到0，是因为我们前面的例子，例子中 ...的下一个既可以是e，也可以是h，也可以是其他，所以这里我们loss达不到0"
   ],
   "metadata": {
    "collapsed": false,
    "ExecuteTime": {
     "end_time": "2025-03-07T14:23:54.608160600Z",
     "start_time": "2025-03-07T14:23:53.817991900Z"
    }
   },
   "id": "cc50cf1f31c7015a"
  },
  {
   "cell_type": "code",
   "execution_count": 50,
   "outputs": [
    {
     "data": {
      "text/plain": "[<matplotlib.lines.Line2D at 0x1bf9118e010>]"
     },
     "execution_count": 50,
     "metadata": {},
     "output_type": "execute_result"
    },
    {
     "data": {
      "text/plain": "<Figure size 640x480 with 1 Axes>",
      "image/png": "[encoded data removed]"
     },
     "metadata": {},
     "output_type": "display_data"
    }
   ],
   "source": [
    "plt.plot(lri, lossi)"
   ],
   "metadata": {
    "collapsed": false,
    "ExecuteTime": {
     "end_time": "2025-03-07T14:24:19.392760800Z",
     "start_time": "2025-03-07T14:24:09.147527400Z"
    }
   },
   "id": "b9aed9df6dc6b0e8"
  },
  {
   "cell_type": "code",
   "execution_count": null,
   "outputs": [],
   "source": [],
   "metadata": {
    "collapsed": false
   },
   "id": "e062aa6b925c5b77"
  }
 ],
 "metadata": {
  "kernelspec": {
   "display_name": "Python 3",
   "language": "python",
   "name": "python3"
  },
  "language_info": {
   "codemirror_mode": {
    "name": "ipython",
    "version": 2
   },
   "file_extension": ".py",
   "mimetype": "text/x-python",
   "name": "python",
   "nbconvert_exporter": "python",
   "pygments_lexer": "ipython2",
   "version": "2.7.6"
  }
 },
 "nbformat": 4,
 "nbformat_minor": 5
}
